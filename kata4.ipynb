{
 "cells": [
  {
   "cell_type": "code",
   "execution_count": 3,
   "metadata": {},
   "outputs": [
    {
     "name": "stdout",
     "output_type": "stream",
     "text": [
      " \n",
      "On average, the Moon moves 4cm away from the Earth every year\n",
      " The highest daylight temperature of the Moon is 127 Celsius\n"
     ]
    }
   ],
   "source": [
    "text = \"\"\"Interesting facts about the Moon. The Moon is Earth's only satellite. There are several interesting facts about the Moon and how it affects life here on Earth. \n",
    "On average, the Moon moves 4cm away from the Earth every year. This yearly drift is not significant enough to cause immediate effects on Earth. The highest daylight temperature of the Moon is 127 C.\"\"\"\n",
    "oraciones = text.split('.')\n",
    "clave = ['average','temperature','distance']\n",
    "\n",
    "for texto in oraciones:\n",
    "    for palabraClave in clave:\n",
    "        if palabraClave in texto:\n",
    "            print(texto.replace('C', 'Celsius'))\n",
    "            break "
   ]
  },
  {
   "cell_type": "code",
   "execution_count": 11,
   "metadata": {},
   "outputs": [
    {
     "name": "stdout",
     "output_type": "stream",
     "text": [
      " La Gravedad En Moon Sobre Earth\n",
      "Planeta: Earth\n",
      "Nombre: Moon\n",
      "gravedad: 1.6199999999999999\n",
      "\n",
      "\n",
      "Datos de : Marte\n",
      "Nombre del planeta: Ganímedes\n",
      "Gravedad en: 1.4300000000000002 \n",
      "\n"
     ]
    }
   ],
   "source": [
    "name = \"Moon\"\n",
    "gravity = 0.00162 # in kms\n",
    "planet = \"Earth\"\n",
    "\n",
    "\n",
    "\n",
    "title = 'La gravedad en {luna} sobre {tierra}'.format(luna=name,tierra=planet)\n",
    "\n",
    "texto = f\"\"\"Planeta: {planet}\n",
    "Nombre: {name}\n",
    "gravedad: {gravity * 1000}\n",
    "\"\"\"\n",
    "\n",
    "union = f\"\"\" {title.title()}\n",
    "{texto}\"\"\"\n",
    "\n",
    "print(union)\n",
    "\n",
    "name = \"Marte\"\n",
    "gravity = 0.00143 # in kms\n",
    "planet = \"Ganímedes\"\n",
    "\n",
    "nuevo_texto = \"\"\"\n",
    "Datos de : {nombre}\n",
    "Nombre del planeta: {planeta}\n",
    "Gravedad en: {gravedad} \n",
    "\"\"\"\n",
    "\n",
    "print(nuevo_texto.format(nombre=name,planeta=planet,gravedad=gravity*1000))\n"
   ]
  }
 ],
 "metadata": {
  "interpreter": {
   "hash": "916dbcbb3f70747c44a77c7bcd40155683ae19c65e1c03b4aa3499c5328201f1"
  },
  "kernelspec": {
   "display_name": "Python 3.9.7 64-bit",
   "language": "python",
   "name": "python3"
  },
  "language_info": {
   "codemirror_mode": {
    "name": "ipython",
    "version": 3
   },
   "file_extension": ".py",
   "mimetype": "text/x-python",
   "name": "python",
   "nbconvert_exporter": "python",
   "pygments_lexer": "ipython3",
   "version": "3.9.7"
  },
  "orig_nbformat": 4
 },
 "nbformat": 4,
 "nbformat_minor": 2
}
