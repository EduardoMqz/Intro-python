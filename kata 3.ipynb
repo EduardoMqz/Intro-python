{
 "cells": [
  {
   "cell_type": "code",
   "execution_count": 2,
   "metadata": {},
   "outputs": [
    {
     "name": "stdout",
     "output_type": "stream",
     "text": [
      "Se acerca un asteroide miren arriba\n"
     ]
    }
   ],
   "source": [
    "ast = 49\n",
    "\n",
    "if ast > 25:\n",
    "    print(\"Se acerca un asteroide miren arriba\")\n",
    "else:\n",
    "    print(\"Todo en orden sigan con su dia\")"
   ]
  },
  {
   "cell_type": "code",
   "execution_count": 3,
   "metadata": {},
   "outputs": [
    {
     "name": "stdout",
     "output_type": "stream",
     "text": [
      "Se puede observar la luz de un cometa\n"
     ]
    }
   ],
   "source": [
    "ast = 19\n",
    "\n",
    "if ast > 25:\n",
    "    print(\"Se acerca un asteroide y moriremos\")\n",
    "elif ast >= 20 and ast < 25:\n",
    "    print(\"Se puede observar la luz de un cometa\")\n",
    "else:\n",
    "    print(\"Un dia mas para la humanidad\")"
   ]
  },
  {
   "cell_type": "code",
   "execution_count": 5,
   "metadata": {},
   "outputs": [
    {
     "name": "stdout",
     "output_type": "stream",
     "text": [
      "Se puede observar la luz de un cometa en el cielo\n"
     ]
    }
   ],
   "source": [
    "vel_ast = 25\n",
    "dim_ast = 40\n",
    "\n",
    "if vel_ast > 25 and dim_ast > 25:\n",
    "    print('Es el fin de los tiempos, hora de morir')\n",
    "elif vel_ast >= 20:\n",
    "    print('Se puede observar la luz de un cometa en el cielo')\n",
    "elif dim_ast < 25:\n",
    "    print('Un dia mas para la humanidad')\n",
    "else:\n",
    "    print('Continuen con su dia')"
   ]
  }
 ],
 "metadata": {
  "interpreter": {
   "hash": "916dbcbb3f70747c44a77c7bcd40155683ae19c65e1c03b4aa3499c5328201f1"
  },
  "kernelspec": {
   "display_name": "Python 3.9.7 64-bit",
   "language": "python",
   "name": "python3"
  },
  "language_info": {
   "codemirror_mode": {
    "name": "ipython",
    "version": 3
   },
   "file_extension": ".py",
   "mimetype": "text/x-python",
   "name": "python",
   "nbconvert_exporter": "python",
   "pygments_lexer": "ipython3",
   "version": "3.9.7"
  },
  "orig_nbformat": 4
 },
 "nbformat": 4,
 "nbformat_minor": 2
}
