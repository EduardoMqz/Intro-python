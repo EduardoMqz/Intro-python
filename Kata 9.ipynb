{
 "cells": [
  {
   "cell_type": "code",
   "execution_count": null,
   "metadata": {},
   "outputs": [],
   "source": [
    "def reporte(uno, dos, tres):\n",
    "    promedio = (uno + dos + tres) / 3\n",
    "    return f\"\"\"Reporte:\n",
    "    Promedio: {promedio}%\n",
    "    Tanque 1: {uno}%\n",
    "    Tanque 2: {dos}%\n",
    "    Tanque 3: {tres}% \n",
    "    \"\"\"\n",
    "\n",
    "print(reporte(5,12,9))\n",
    "\n",
    "\n",
    "def promedio(valores):\n",
    "    total = sum(valores)\n",
    "    cantidad = len(valores)\n",
    "    return total/cantidad\n",
    "\n",
    "print(promedio([5,12,9]))\n",
    "\n"
   ]
  },
  {
   "cell_type": "code",
   "execution_count": 6,
   "metadata": {},
   "outputs": [
    {
     "name": "stdout",
     "output_type": "stream",
     "text": [
      "Reporte:\n",
      "    Promedio: 8.666666666666666%\n",
      "    Tanque 1: 5%\n",
      "    Tanque 2: 12%\n",
      "    Tanque 3: 9% \n",
      "    \n"
     ]
    }
   ],
   "source": [
    "def reporte(uno, dos, tres):\n",
    "    promedio_total = promedio([uno, dos, tres])\n",
    "    return f\"\"\"Reporte:\n",
    "    Promedio: {promedio_total}%\n",
    "    Tanque 1: {uno}%\n",
    "    Tanque 2: {dos}%\n",
    "    Tanque 3: {tres}% \n",
    "    \"\"\"\n",
    "\n",
    "print(reporte(5,12,9))"
   ]
  },
  {
   "cell_type": "code",
   "execution_count": 6,
   "metadata": {},
   "outputs": [
    {
     "name": "stdout",
     "output_type": "stream",
     "text": [
      "Informe: \n",
      "    Tiempo hasta el destino: 452 horas\n",
      "    Combustible disponible: 25%\n",
      "    Destino: Jupiter\n",
      "    \n",
      "Informe: \n",
      "    Tiempo hasta el destino: 408 horas\n",
      "    Combustible disponible: 464880\n",
      "    Destino: Moon\n",
      "    \n",
      "Informe: \n",
      "    Tiempo hasta el destino: 408 horas\n",
      "    Combustible disponible: 464880\n",
      "    Destino: Moon\n",
      "     main tanque contiene 412515 litros disponibles \n",
      " external tanque contiene 52365 litros disponibles \n",
      "\n"
     ]
    }
   ],
   "source": [
    "def informe (tiempo_destino,combu_izq,destino):\n",
    "    return f\"\"\"Informe: \n",
    "    Tiempo hasta el destino: {tiempo_destino} horas\n",
    "    Combustible disponible: {combu_izq}%\n",
    "    Destino: {destino}\n",
    "    \"\"\"\n",
    "\n",
    "print(informe(452, 25,'Jupiter'))\n",
    "\n",
    "\n",
    "def informe (destino,*tiempo_destino,**combu_izq):\n",
    "    return f\"\"\"Informe: \n",
    "    Tiempo hasta el destino: {sum(tiempo_destino)} horas\n",
    "    Combustible disponible: {sum(combu_izq.values())}\n",
    "    Destino: {destino}\n",
    "    \"\"\"\n",
    "\n",
    "print(informe('Moon', 342, 41, 25, main=412515, external=52365))\n",
    "\n",
    "def informe (destino,*tiempo_destino,**combu_izq):\n",
    "    informe_viaje = f\"\"\"Informe: \n",
    "    Tiempo hasta el destino: {sum(tiempo_destino)} horas\n",
    "    Combustible disponible: {sum(combu_izq.values())}\n",
    "    Destino: {destino}\n",
    "    \"\"\"\n",
    "\n",
    "    for tanque, cantidad in combu_izq.items():\n",
    "        informe_viaje += f\"\"\" {tanque} tanque contiene {cantidad} litros disponibles \\n\"\"\"\n",
    "    \n",
    "    return informe_viaje\n",
    "\n",
    "print(informe('Moon', 342, 41, 25, main=412515, external=52365))"
   ]
  }
 ],
 "metadata": {
  "interpreter": {
   "hash": "916dbcbb3f70747c44a77c7bcd40155683ae19c65e1c03b4aa3499c5328201f1"
  },
  "kernelspec": {
   "display_name": "Python 3.9.7 64-bit",
   "language": "python",
   "name": "python3"
  },
  "language_info": {
   "codemirror_mode": {
    "name": "ipython",
    "version": 3
   },
   "file_extension": ".py",
   "mimetype": "text/x-python",
   "name": "python",
   "nbconvert_exporter": "python",
   "pygments_lexer": "ipython3",
   "version": "3.9.7"
  },
  "orig_nbformat": 4
 },
 "nbformat": 4,
 "nbformat_minor": 2
}
