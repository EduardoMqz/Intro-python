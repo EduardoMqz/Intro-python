{
 "cells": [
  {
   "cell_type": "code",
   "execution_count": 4,
   "metadata": {},
   "outputs": [
    {
     "name": "stdout",
     "output_type": "stream",
     "text": [
      "La distancia entre la tierra y jupiter es 628949330 km\n",
      "La distancia entre la tierra y jupiter es 390577533.93 ml\n"
     ]
    }
   ],
   "source": [
    "tierra = 149597870\n",
    "jupiter = 778547200\n",
    "text = f'La distancia entre la tierra y jupiter es {jupiter - tierra} km'\n",
    "\n",
    "miles_distance = (jupiter - tierra) * 0.621\n",
    "text_two = f'La distancia entre la tierra y jupiter es {miles_distance} ml'\n",
    "\n",
    "print(text)\n",
    "print(text_two)"
   ]
  },
  {
   "cell_type": "markdown",
   "metadata": {},
   "source": [
    "## Ejercicio 2"
   ]
  },
  {
   "cell_type": "code",
   "execution_count": 8,
   "metadata": {},
   "outputs": [
    {
     "name": "stdout",
     "output_type": "stream",
     "text": [
      "531\n",
      "329.751\n"
     ]
    }
   ],
   "source": [
    "distancia_one = int(input('Cual es la distancia del sol al planeta uno?'))\n",
    "distancia_two = input('Cual es la distancia del sol al planeta dos')\n",
    "distancia = int(distancia_two)-distancia_one\n",
    "print(distancia)\n",
    "\n",
    "distancia = abs(distancia) * 0.621\n",
    "print(abs(distancia))"
   ]
  }
 ],
 "metadata": {
  "interpreter": {
   "hash": "916dbcbb3f70747c44a77c7bcd40155683ae19c65e1c03b4aa3499c5328201f1"
  },
  "kernelspec": {
   "display_name": "Python 3.9.7 64-bit",
   "language": "python",
   "name": "python3"
  },
  "language_info": {
   "codemirror_mode": {
    "name": "ipython",
    "version": 3
   },
   "file_extension": ".py",
   "mimetype": "text/x-python",
   "name": "python",
   "nbconvert_exporter": "python",
   "pygments_lexer": "ipython3",
   "version": "3.9.7"
  },
  "orig_nbformat": 4
 },
 "nbformat": 4,
 "nbformat_minor": 2
}
